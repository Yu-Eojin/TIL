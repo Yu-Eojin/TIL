{
 "cells": [
  {
   "cell_type": "code",
   "execution_count": 1,
   "metadata": {},
   "outputs": [],
   "source": [
    "import keras\n",
    "import numpy as np\n",
    "import matplotlib.pyplot as plt"
   ]
  },
  {
   "cell_type": "code",
   "execution_count": 2,
   "metadata": {},
   "outputs": [
    {
     "name": "stdout",
     "output_type": "stream",
     "text": [
      "Downloading data from https://storage.googleapis.com/tensorflow/tf-keras-datasets/boston_housing.npz\n",
      "57026/57026 [==============================] - 0s 0us/step\n"
     ]
    }
   ],
   "source": [
    "# 보스턴 주택 가격 데이터셋\n",
    "\n",
    "from keras.datasets import boston_housing\n",
    "(train_data,train_labels),(test_data,test_labels) = boston_housing.load_data()"
   ]
  },
  {
   "cell_type": "code",
   "execution_count": 3,
   "metadata": {},
   "outputs": [
    {
     "data": {
      "text/plain": [
       "(404, 13)"
      ]
     },
     "execution_count": 3,
     "metadata": {},
     "output_type": "execute_result"
    }
   ],
   "source": [
    "train_data.shape"
   ]
  },
  {
   "cell_type": "code",
   "execution_count": 4,
   "metadata": {},
   "outputs": [
    {
     "data": {
      "text/plain": [
       "(102, 13)"
      ]
     },
     "execution_count": 4,
     "metadata": {},
     "output_type": "execute_result"
    }
   ],
   "source": [
    "test_data.shape"
   ]
  },
  {
   "cell_type": "code",
   "execution_count": 5,
   "metadata": {},
   "outputs": [],
   "source": [
    "mean = train_data.mean(axis=0)"
   ]
  },
  {
   "cell_type": "code",
   "execution_count": 6,
   "metadata": {},
   "outputs": [],
   "source": [
    "train_data -= mean\n",
    "#train_data = train_data - mean 와 같은 표현"
   ]
  },
  {
   "cell_type": "code",
   "execution_count": 7,
   "metadata": {},
   "outputs": [],
   "source": [
    "# 표준 편차를 구한다. \n",
    "std = train_data.std(axis=0)"
   ]
  },
  {
   "cell_type": "code",
   "execution_count": 8,
   "metadata": {},
   "outputs": [],
   "source": [
    "train_data /= std\n",
    "#train_data = train_data / std"
   ]
  },
  {
   "cell_type": "code",
   "execution_count": 9,
   "metadata": {},
   "outputs": [
    {
     "data": {
      "text/plain": [
       "array([[-0.27224633, -0.48361547, -0.43576161, ...,  1.14850044,\n",
       "         0.44807713,  0.8252202 ],\n",
       "       [-0.40342651,  2.99178419, -1.33391162, ..., -1.71818909,\n",
       "         0.43190599, -1.32920239],\n",
       "       [ 0.1249402 , -0.48361547,  1.0283258 , ...,  0.78447637,\n",
       "         0.22061726, -1.30850006],\n",
       "       ...,\n",
       "       [-0.40202987,  0.99079651, -0.7415148 , ..., -0.71712291,\n",
       "         0.07943894, -0.67776904],\n",
       "       [-0.17292018, -0.48361547,  1.24588095, ..., -1.71818909,\n",
       "        -0.98764362,  0.42083466],\n",
       "       [-0.40422614,  2.04394792, -1.20161456, ..., -1.30866202,\n",
       "         0.23317118, -1.15392266]])"
      ]
     },
     "execution_count": 9,
     "metadata": {},
     "output_type": "execute_result"
    }
   ],
   "source": [
    "train_data"
   ]
  },
  {
   "cell_type": "code",
   "execution_count": 10,
   "metadata": {},
   "outputs": [],
   "source": [
    "mean = test_data.mean(axis=0)\n",
    "test_data -= mean\n",
    "std = test_data.std(axis=0)\n",
    "test_data /= std"
   ]
  },
  {
   "cell_type": "code",
   "execution_count": 11,
   "metadata": {},
   "outputs": [
    {
     "data": {
      "text/plain": [
       "array([[ 2.8040301 , -0.50784934,  0.96960877, ...,  0.90513041,\n",
       "        -4.27829517,  2.51324773],\n",
       "       [-0.55530596, -0.50784934, -0.17801704, ..., -0.28485844,\n",
       "         0.3909446 ,  0.58604286],\n",
       "       [-0.56808398, -0.50784934, -0.86176938, ...,  0.90513041,\n",
       "         0.41570668, -0.38506427],\n",
       "       ...,\n",
       "       [-0.23539182, -0.50784934,  1.17955762, ..., -1.82192738,\n",
       "         0.32313459, -1.55879807],\n",
       "       [-0.5113909 , -0.50784934, -0.71849348, ..., -0.48318992,\n",
       "         0.34967446, -0.38956708],\n",
       "       [-0.03148414, -0.50784934,  1.17955762, ..., -1.82192738,\n",
       "        -1.57465677, -0.3745577 ]])"
      ]
     },
     "execution_count": 11,
     "metadata": {},
     "output_type": "execute_result"
    }
   ],
   "source": [
    "test_data"
   ]
  },
  {
   "cell_type": "code",
   "execution_count": 12,
   "metadata": {},
   "outputs": [],
   "source": [
    "# 신경망을 만든다. \n",
    "from keras import models\n",
    "from keras import layers\n",
    "\n",
    "def build_model():\n",
    "  model = models.Sequential()\n",
    "  model.add(layers.Dense(64, activation='relu', input_shape=(train_data.shape[1],)))\n",
    "  model.add(layers.Dense(64, activation='relu'))\n",
    "  model.add(layers.Dense(1))\n",
    "\n",
    "  model.compile(optimizer='rmsprop',\n",
    "                loss='mse',\n",
    "                metrics=['mae'])\n",
    "  return model\n"
   ]
  },
  {
   "cell_type": "code",
   "execution_count": 21,
   "metadata": {},
   "outputs": [
    {
     "name": "stdout",
     "output_type": "stream",
     "text": [
      "처리중인 폴드 #  0\n",
      "처리중인 폴드 #  1\n",
      "처리중인 폴드 #  2\n",
      "처리중인 폴드 #  3\n"
     ]
    }
   ],
   "source": [
    "# K-folder 검증\n",
    "k = 4\n",
    "\n",
    "num_val_samples = len(train_data) // k # 폴더의 사이즈\n",
    "all_scores = []\n",
    "\n",
    "for i in range(k):\n",
    "    print('처리중인 폴드 # ', i)\n",
    "\n",
    "    #검증 데이터 준비: k번째 분할\n",
    "    val_data = train_data[i * num_val_samples : (i+1) * num_val_samples]\n",
    "    val_label = train_labels[i * num_val_samples : (i+1) * num_val_samples]\n",
    "    \n",
    "    # 훈련 데이터 준비\n",
    "    partial_train_data = np.concatenate((train_data[ : i * num_val_samples],\n",
    "                                        train_data[(i+1) * num_val_samples : ]), \n",
    "                                        axis=0)\n",
    "\n",
    "    partial_train_labels = np.concatenate((train_labels[ : i * num_val_samples],\n",
    "                                        train_labels[(i+1) * num_val_samples : ]), \n",
    "                                        axis=0)\n",
    "\n",
    "    model = build_model()\n",
    "    model.fit(partial_train_data, partial_train_labels,\n",
    "                epochs=20,\n",
    "                batch_size=1,\n",
    "                verbose=0)\n",
    "\n",
    "    val_mse, val_mae = model.evaluate(val_data, val_label, verbose=0)\n",
    "    all_scores.append(val_mae)\n",
    "    \n"
   ]
  },
  {
   "cell_type": "code",
   "execution_count": 22,
   "metadata": {},
   "outputs": [
    {
     "name": "stdout",
     "output_type": "stream",
     "text": [
      "처리중인 폴드 #  0\n",
      "처리중인 폴드 #  1\n",
      "처리중인 폴드 #  2\n",
      "처리중인 폴드 #  3\n"
     ]
    }
   ],
   "source": [
    "# K-folder 검증\n",
    "k = 4\n",
    "num_epochs = 500\n",
    "\n",
    "num_val_samples = len(train_data) // k # 폴더의 사이즈\n",
    "all_scores = []\n",
    "\n",
    "for i in range(k):\n",
    "    print('처리중인 폴드 # ', i)\n",
    "\n",
    "    #검증 데이터 준비: k번째 분할\n",
    "    val_data = train_data[i * num_val_samples : (i+1) * num_val_samples]\n",
    "    val_label = train_labels[i * num_val_samples : (i+1) * num_val_samples]\n",
    "    \n",
    "    # 훈련 데이터 준비\n",
    "    partial_train_data = np.concatenate((train_data[ : i * num_val_samples],\n",
    "                                        train_data[(i+1) * num_val_samples : ]), \n",
    "                                        axis=0)\n",
    "\n",
    "    partial_train_labels = np.concatenate((train_labels[ : i * num_val_samples],\n",
    "                                        train_labels[(i+1) * num_val_samples : ]), \n",
    "                                        axis=0)\n",
    "\n",
    "    model = build_model()\n",
    "    history = model.fit(partial_train_data, partial_train_labels,\n",
    "                        epochs=num_epochs,\n",
    "                        batch_size=1,\n",
    "                        validation_data=(val_data, val_label),\n",
    "                        verbose=0)\n",
    "\n",
    "    mae_history = history.history['mae']\n",
    "    all_scores.append(mae_history)\n",
    "    \n"
   ]
  },
  {
   "cell_type": "code",
   "execution_count": 23,
   "metadata": {},
   "outputs": [],
   "source": [
    "average_mae_history = [np.mean([x[i] for x in all_scores]) for i in range(num_epochs)]"
   ]
  },
  {
   "cell_type": "code",
   "execution_count": 24,
   "metadata": {},
   "outputs": [
    {
     "data": {
      "text/plain": [
       "Text(0, 0.5, 'Validation MAE')"
      ]
     },
     "execution_count": 24,
     "metadata": {},
     "output_type": "execute_result"
    },
    {
     "data": {
      "image/png": "[encoded data removed]",
      "text/plain": [
       "<Figure size 640x480 with 1 Axes>"
      ]
     },
     "metadata": {},
     "output_type": "display_data"
    }
   ],
   "source": [
    "plt.plot(range(1, len(average_mae_history)+1), average_mae_history)\n",
    "plt.xlabel('Epochs')\n",
    "plt.ylabel('Validation MAE')"
   ]
  },
  {
   "cell_type": "code",
   "execution_count": null,
   "metadata": {},
   "outputs": [],
   "source": []
  }
 ],
 "metadata": {
  "kernelspec": {
   "display_name": "Python 3.7.9 64-bit",
   "language": "python",
   "name": "python3"
  },
  "language_info": {
   "codemirror_mode": {
    "name": "ipython",
    "version": 3
   },
   "file_extension": ".py",
   "mimetype": "text/x-python",
   "name": "python",
   "nbconvert_exporter": "python",
   "pygments_lexer": "ipython3",
   "version": "3.7.9"
  },
  "orig_nbformat": 4,
  "vscode": {
   "interpreter": {
    "hash": "8c2dc7f55a4afb133f9671f18548a683b80d7f864af89313bd9839ac682f147f"
   }
  }
 },
 "nbformat": 4,
 "nbformat_minor": 2
}
