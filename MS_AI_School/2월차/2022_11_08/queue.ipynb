{
 "cells": [
  {
   "cell_type": "code",
   "execution_count": 1,
   "metadata": {},
   "outputs": [
    {
     "name": "stdout",
     "output_type": "stream",
     "text": [
      "Collecting azure-storage-queue==2.1.0\n",
      "  Downloading azure_storage_queue-2.1.0-py2.py3-none-any.whl (24 kB)\n",
      "Requirement already satisfied: azure-common>=1.1.5 in c:\\users\\user\\appdata\\local\\programs\\python\\python37\\lib\\site-packages (from azure-storage-queue==2.1.0) (1.1.28)\n",
      "Requirement already satisfied: azure-storage-common~=2.1 in c:\\users\\user\\appdata\\local\\programs\\python\\python37\\lib\\site-packages (from azure-storage-queue==2.1.0) (2.1.0)\n",
      "Requirement already satisfied: python-dateutil in c:\\users\\user\\appdata\\roaming\\python\\python37\\site-packages (from azure-storage-common~=2.1->azure-storage-queue==2.1.0) (2.8.2)\n",
      "Requirement already satisfied: requests in c:\\users\\user\\appdata\\local\\programs\\python\\python37\\lib\\site-packages (from azure-storage-common~=2.1->azure-storage-queue==2.1.0) (2.28.1)\n",
      "Requirement already satisfied: cryptography in c:\\users\\user\\appdata\\local\\programs\\python\\python37\\lib\\site-packages (from azure-storage-common~=2.1->azure-storage-queue==2.1.0) (38.0.3)\n",
      "Requirement already satisfied: cffi>=1.12 in c:\\users\\user\\appdata\\local\\programs\\python\\python37\\lib\\site-packages (from cryptography->azure-storage-common~=2.1->azure-storage-queue==2.1.0) (1.15.1)\n",
      "Requirement already satisfied: six>=1.5 in c:\\users\\user\\appdata\\local\\programs\\python\\python37\\lib\\site-packages (from python-dateutil->azure-storage-common~=2.1->azure-storage-queue==2.1.0) (1.16.0)\n",
      "Requirement already satisfied: idna<4,>=2.5 in c:\\users\\user\\appdata\\local\\programs\\python\\python37\\lib\\site-packages (from requests->azure-storage-common~=2.1->azure-storage-queue==2.1.0) (3.4)\n",
      "Requirement already satisfied: certifi>=2017.4.17 in c:\\users\\user\\appdata\\local\\programs\\python\\python37\\lib\\site-packages (from requests->azure-storage-common~=2.1->azure-storage-queue==2.1.0) (2022.9.24)\n",
      "Requirement already satisfied: urllib3<1.27,>=1.21.1 in c:\\users\\user\\appdata\\local\\programs\\python\\python37\\lib\\site-packages (from requests->azure-storage-common~=2.1->azure-storage-queue==2.1.0) (1.26.12)\n",
      "Requirement already satisfied: charset-normalizer<3,>=2 in c:\\users\\user\\appdata\\local\\programs\\python\\python37\\lib\\site-packages (from requests->azure-storage-common~=2.1->azure-storage-queue==2.1.0) (2.1.1)\n",
      "Requirement already satisfied: pycparser in c:\\users\\user\\appdata\\local\\programs\\python\\python37\\lib\\site-packages (from cffi>=1.12->cryptography->azure-storage-common~=2.1->azure-storage-queue==2.1.0) (2.21)\n",
      "Installing collected packages: azure-storage-queue\n",
      "Successfully installed azure-storage-queue-2.1.0\n"
     ]
    },
    {
     "name": "stderr",
     "output_type": "stream",
     "text": [
      "\n",
      "[notice] A new release of pip available: 22.3 -> 22.3.1\n",
      "[notice] To update, run: python.exe -m pip install --upgrade pip\n"
     ]
    }
   ],
   "source": [
    "!pip install azure-storage-queue==2.1.0"
   ]
  },
  {
   "cell_type": "code",
   "execution_count": 2,
   "metadata": {},
   "outputs": [],
   "source": [
    "from azure.storage.queue import QueueService, QueueMessageFormat"
   ]
  },
  {
   "cell_type": "code",
   "execution_count": 3,
   "metadata": {},
   "outputs": [],
   "source": [
    "import os, uuid"
   ]
  },
  {
   "cell_type": "code",
   "execution_count": 4,
   "metadata": {},
   "outputs": [
    {
     "name": "stdout",
     "output_type": "stream",
     "text": [
      "Creationg queue: queue-14055489-c817-48ef-b2b0-a1f1197d758a\n"
     ]
    },
    {
     "data": {
      "text/plain": [
       "True"
      ]
     },
     "execution_count": 4,
     "metadata": {},
     "output_type": "execute_result"
    }
   ],
   "source": [
    "connect_str = 'DefaultEndpointsProtocol=https;AccountName=labuser8storage;AccountKey=q+RJgg40uZ00veE983qKIBwe7zGrjDIFcCtSGFuVXhPzuW6yhn2G0xSGH+HPAdCvhzaT/pIGKgqo+AStN3b/Kw==;EndpointSuffix=core.windows.net'\n",
    "queue_name = 'queue-' + str(uuid.uuid4())\n",
    "\n",
    "print('Creating queue: ' + queue_name)\n",
    "queue_service = QueueService(connection_string=connect_str)\n",
    "\n",
    "queue_service.create_queue(queue_name=queue_name)"
   ]
  },
  {
   "cell_type": "code",
   "execution_count": 25,
   "metadata": {},
   "outputs": [
    {
     "name": "stdout",
     "output_type": "stream",
     "text": [
      "Adding messege Hello, World\n"
     ]
    },
    {
     "data": {
      "text/plain": [
       "<azure.storage.queue.models.QueueMessage at 0x18e47a32e48>"
      ]
     },
     "execution_count": 25,
     "metadata": {},
     "output_type": "execute_result"
    }
   ],
   "source": [
    "# Setup Base64 encoding and decoding functions\n",
    "queue_service.encode_function = QueueMessageFormat.binary_base64encode\n",
    "queue_service.decode_function = QueueMessageFormat.binary_base64decode\n",
    "\n",
    "import base64\n",
    "message = 'Hello, World'\n",
    "\n",
    "print('Adding messege ' + message)\n",
    "message = base64.b64encode(message.encode('utf-8'))\n",
    "queue_service.put_message(queue_name, message)"
   ]
  },
  {
   "cell_type": "code",
   "execution_count": 29,
   "metadata": {},
   "outputs": [
    {
     "name": "stdout",
     "output_type": "stream",
     "text": [
      "peeked message: Hello, World\n"
     ]
    }
   ],
   "source": [
    "messages = queue_service.peek_messages(queue_name)\n",
    "\n",
    "for peeked_message in messages:\n",
    "    message = base64.b64decode(peeked_message.content)\n",
    "    print('peeked message: ' + message.decode('utf-8'))"
   ]
  },
  {
   "cell_type": "code",
   "execution_count": 34,
   "metadata": {},
   "outputs": [],
   "source": [
    "messages = queue_service.get_messages(queue_name)\n",
    "for msg in messages:\n",
    "    message = base64.b64decode(msg.content)\n",
    "    print('Message: ' + message.decode('utf-8'))"
   ]
  },
  {
   "cell_type": "code",
   "execution_count": 35,
   "metadata": {},
   "outputs": [
    {
     "name": "stdout",
     "output_type": "stream",
     "text": [
      "Deleting queue: queue-14055489-c817-48ef-b2b0-a1f1197d758a\n"
     ]
    },
    {
     "data": {
      "text/plain": [
       "True"
      ]
     },
     "execution_count": 35,
     "metadata": {},
     "output_type": "execute_result"
    }
   ],
   "source": [
    "print('Deleting queue: ' + queue_name)\n",
    "queue_service.delete_queue(queue_name)"
   ]
  },
  {
   "cell_type": "code",
   "execution_count": null,
   "metadata": {},
   "outputs": [],
   "source": []
  }
 ],
 "metadata": {
  "kernelspec": {
   "display_name": "Python 3.7.9 64-bit",
   "language": "python",
   "name": "python3"
  },
  "language_info": {
   "codemirror_mode": {
    "name": "ipython",
    "version": 3
   },
   "file_extension": ".py",
   "mimetype": "text/x-python",
   "name": "python",
   "nbconvert_exporter": "python",
   "pygments_lexer": "ipython3",
   "version": "3.7.9"
  },
  "orig_nbformat": 4,
  "vscode": {
   "interpreter": {
    "hash": "8c2dc7f55a4afb133f9671f18548a683b80d7f864af89313bd9839ac682f147f"
   }
  }
 },
 "nbformat": 4,
 "nbformat_minor": 2
}
