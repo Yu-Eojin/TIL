{
 "cells": [
  {
   "cell_type": "code",
   "execution_count": 1,
   "metadata": {},
   "outputs": [],
   "source": [
    "# File Share 연결하는 코드\n",
    "from azure.storage.file import FileService\n",
    "file_service = FileService(account_name='labuser8storage',\n",
    "                           account_key='q+RJgg40uZ00veE983qKIBwe7zGrjDIFcCtSGFuVXhPzuW6yhn2G0xSGH+HPAdCvhzaT/pIGKgqo+AStN3b/Kw==')\n",
    "\n"
   ]
  },
  {
   "cell_type": "code",
   "execution_count": 3,
   "metadata": {},
   "outputs": [
    {
     "data": {
      "text/plain": [
       "False"
      ]
     },
     "execution_count": 3,
     "metadata": {},
     "output_type": "execute_result"
    }
   ],
   "source": [
    "# myshre 공유 폴더를 생성\n",
    "file_service.create_share('myshare')"
   ]
  },
  {
   "cell_type": "code",
   "execution_count": 4,
   "metadata": {},
   "outputs": [
    {
     "data": {
      "text/plain": [
       "True"
      ]
     },
     "execution_count": 4,
     "metadata": {},
     "output_type": "execute_result"
    }
   ],
   "source": [
    "# myshare 안에 샘플 디렉토리인 sampledir을 생성한다. \n",
    "file_service.create_directory('myshare','sampledir')"
   ]
  },
  {
   "cell_type": "code",
   "execution_count": 5,
   "metadata": {},
   "outputs": [],
   "source": [
    "# ponyo.jpg를 myfile로 해당 공유 폴더에 복사한다. \n",
    "from azure.storage.file import ContentSettings\n",
    "\n",
    "file_service.create_file_from_path('myshare', None, 'myfile','ponyo.jpg',content_settings=ContentSettings(content_type='image/jpg'))"
   ]
  },
  {
   "cell_type": "code",
   "execution_count": 6,
   "metadata": {},
   "outputs": [
    {
     "name": "stdout",
     "output_type": "stream",
     "text": [
      "myfile\n",
      "sampledir\n"
     ]
    }
   ],
   "source": [
    "# 공유 폴더안에 파일 목록을 가져와서 보여준다.\n",
    "generator = file_service.list_directories_and_files('myshare')\n",
    "for file_or_dir in generator:\n",
    "  print(file_or_dir.name)"
   ]
  },
  {
   "cell_type": "code",
   "execution_count": 9,
   "metadata": {},
   "outputs": [
    {
     "data": {
      "text/plain": [
       "<azure.storage.file.models.File at 0x251cf095548>"
      ]
     },
     "execution_count": 9,
     "metadata": {},
     "output_type": "execute_result"
    }
   ],
   "source": [
    "# 다시 myfile로 복사된 IU.jpg를 out-IU.jpg로 가져온다. \n",
    "file_service.get_file_to_path('myshare', None, 'myfile','out-ponyo.jpg' )"
   ]
  },
  {
   "cell_type": "code",
   "execution_count": 7,
   "metadata": {},
   "outputs": [],
   "source": [
    "# 스냅샷을 찍어둔다. \n",
    "metadata = {'foo':'bar'}\n",
    "snapshot = file_service.snapshot_share('myshare', metadata=metadata)"
   ]
  },
  {
   "cell_type": "code",
   "execution_count": 15,
   "metadata": {},
   "outputs": [
    {
     "name": "stdout",
     "output_type": "stream",
     "text": [
      "2022-11-08T00:19:52.0000000Z\n",
      "None\n"
     ]
    }
   ],
   "source": [
    "# 전체 스냅샷의 목록을 가져온다. \n",
    "shares = list(file_service.list_shares(include_snapshots=True))\n",
    "for s in shares:\n",
    "  print(s.snapshot)\n"
   ]
  },
  {
   "cell_type": "code",
   "execution_count": 9,
   "metadata": {},
   "outputs": [],
   "source": [
    "# 스넵샷의 파일과 디렉토리 목록을 가져온다. \n",
    "directories_and_files = list(\n",
    "    file_service.list_directories_and_files('myshare', snapshot='2022-11-08T00:26:02.0000000Z')\n",
    ")"
   ]
  },
  {
   "cell_type": "code",
   "execution_count": 11,
   "metadata": {},
   "outputs": [
    {
     "name": "stdout",
     "output_type": "stream",
     "text": [
      "myfile\n",
      "sampledir\n"
     ]
    }
   ],
   "source": [
    "# 파일과 디렉토리 목록을 출력한다. \n",
    "directories_and_files\n",
    "for file_or_dir in generator:\n",
    "    print(file_or_dir.name)\n"
   ]
  },
  {
   "cell_type": "code",
   "execution_count": 16,
   "metadata": {},
   "outputs": [
    {
     "data": {
      "text/plain": [
       "True"
      ]
     },
     "execution_count": 16,
     "metadata": {},
     "output_type": "execute_result"
    }
   ],
   "source": [
    "# 스냅샷의 삭제 \n",
    "\n",
    "file_service.delete_share('myshare', snapshot='2022-11-08T00:19:52.0000000Z')"
   ]
  },
  {
   "cell_type": "code",
   "execution_count": 17,
   "metadata": {},
   "outputs": [
    {
     "name": "stderr",
     "output_type": "stream",
     "text": [
      "Client-Request-ID=bd7f87b0-5efd-11ed-ae27-e4fd454ecedc Retry policy did not allow for a retry: Server-Timestamp=Tue, 08 Nov 2022 00:39:01 GMT, Server-Request-ID=659cdaaa-401a-0052-180a-f33e0c000000, HTTP status code=404, Exception=The specified resource does not exist. ErrorCode: ResourceNotFound<?xml version=\"1.0\" encoding=\"utf-8\"?><Error><Code>ResourceNotFound</Code><Message>The specified resource does not exist.RequestId:659cdaaa-401a-0052-180a-f33e0c000000Time:2022-11-08T00:39:01.5208726Z</Message></Error>.\n"
     ]
    },
    {
     "ename": "AzureMissingResourceHttpError",
     "evalue": "The specified resource does not exist. ErrorCode: ResourceNotFound\n<?xml version=\"1.0\" encoding=\"utf-8\"?><Error><Code>ResourceNotFound</Code><Message>The specified resource does not exist.\nRequestId:659cdaaa-401a-0052-180a-f33e0c000000\nTime:2022-11-08T00:39:01.5208726Z</Message></Error>",
     "output_type": "error",
     "traceback": [
      "\u001b[1;31m---------------------------------------------------------------------------\u001b[0m",
      "\u001b[1;31mAzureMissingResourceHttpError\u001b[0m             Traceback (most recent call last)",
      "\u001b[1;32m~\\AppData\\Local\\Temp\\ipykernel_19140\\2384753058.py\u001b[0m in \u001b[0;36m<module>\u001b[1;34m\u001b[0m\n\u001b[0;32m      1\u001b[0m \u001b[1;31m# 공유 폴더내의 파일의 삭제\u001b[0m\u001b[1;33m\u001b[0m\u001b[1;33m\u001b[0m\u001b[1;33m\u001b[0m\u001b[0m\n\u001b[0;32m      2\u001b[0m \u001b[1;33m\u001b[0m\u001b[0m\n\u001b[1;32m----> 3\u001b[1;33m \u001b[0mfile_service\u001b[0m\u001b[1;33m.\u001b[0m\u001b[0mdelete_file\u001b[0m\u001b[1;33m(\u001b[0m\u001b[1;34m'myshare'\u001b[0m\u001b[1;33m,\u001b[0m \u001b[1;32mNone\u001b[0m\u001b[1;33m,\u001b[0m \u001b[1;34m'myfile'\u001b[0m\u001b[1;33m)\u001b[0m\u001b[1;33m\u001b[0m\u001b[1;33m\u001b[0m\u001b[0m\n\u001b[0m",
      "\u001b[1;32mc:\\Users\\user\\AppData\\Local\\Programs\\Python\\Python37\\lib\\site-packages\\azure\\storage\\file\\fileservice.py\u001b[0m in \u001b[0;36mdelete_file\u001b[1;34m(self, share_name, directory_name, file_name, timeout)\u001b[0m\n\u001b[0;32m   1825\u001b[0m         \u001b[0mrequest\u001b[0m\u001b[1;33m.\u001b[0m\u001b[0mquery\u001b[0m \u001b[1;33m=\u001b[0m \u001b[1;33m{\u001b[0m\u001b[1;34m'timeout'\u001b[0m\u001b[1;33m:\u001b[0m \u001b[0m_int_to_str\u001b[0m\u001b[1;33m(\u001b[0m\u001b[0mtimeout\u001b[0m\u001b[1;33m)\u001b[0m\u001b[1;33m}\u001b[0m\u001b[1;33m\u001b[0m\u001b[1;33m\u001b[0m\u001b[0m\n\u001b[0;32m   1826\u001b[0m \u001b[1;33m\u001b[0m\u001b[0m\n\u001b[1;32m-> 1827\u001b[1;33m         \u001b[0mself\u001b[0m\u001b[1;33m.\u001b[0m\u001b[0m_perform_request\u001b[0m\u001b[1;33m(\u001b[0m\u001b[0mrequest\u001b[0m\u001b[1;33m)\u001b[0m\u001b[1;33m\u001b[0m\u001b[1;33m\u001b[0m\u001b[0m\n\u001b[0m\u001b[0;32m   1828\u001b[0m \u001b[1;33m\u001b[0m\u001b[0m\n\u001b[0;32m   1829\u001b[0m     def create_file(self, share_name, directory_name, file_name,\n",
      "\u001b[1;32mc:\\Users\\user\\AppData\\Local\\Programs\\Python\\Python37\\lib\\site-packages\\azure\\storage\\common\\storageclient.py\u001b[0m in \u001b[0;36m_perform_request\u001b[1;34m(self, request, parser, parser_args, operation_context, expected_errors)\u001b[0m\n\u001b[0;32m    444\u001b[0m                                  \u001b[0mstatus_code\u001b[0m\u001b[1;33m,\u001b[0m\u001b[1;33m\u001b[0m\u001b[1;33m\u001b[0m\u001b[0m\n\u001b[0;32m    445\u001b[0m                                  exception_str_in_one_line)\n\u001b[1;32m--> 446\u001b[1;33m                     \u001b[1;32mraise\u001b[0m \u001b[0mex\u001b[0m\u001b[1;33m\u001b[0m\u001b[1;33m\u001b[0m\u001b[0m\n\u001b[0m\u001b[0;32m    447\u001b[0m             \u001b[1;32mfinally\u001b[0m\u001b[1;33m:\u001b[0m\u001b[1;33m\u001b[0m\u001b[1;33m\u001b[0m\u001b[0m\n\u001b[0;32m    448\u001b[0m                 \u001b[1;31m# If this is a location locked operation and the location is not set,\u001b[0m\u001b[1;33m\u001b[0m\u001b[1;33m\u001b[0m\u001b[1;33m\u001b[0m\u001b[0m\n",
      "\u001b[1;32mc:\\Users\\user\\AppData\\Local\\Programs\\Python\\Python37\\lib\\site-packages\\azure\\storage\\common\\storageclient.py\u001b[0m in \u001b[0;36m_perform_request\u001b[1;34m(self, request, parser, parser_args, operation_context, expected_errors)\u001b[0m\n\u001b[0;32m    372\u001b[0m                 \u001b[1;32mexcept\u001b[0m \u001b[0mAzureException\u001b[0m \u001b[1;32mas\u001b[0m \u001b[0mex\u001b[0m\u001b[1;33m:\u001b[0m\u001b[1;33m\u001b[0m\u001b[1;33m\u001b[0m\u001b[0m\n\u001b[0;32m    373\u001b[0m                     \u001b[0mretry_context\u001b[0m\u001b[1;33m.\u001b[0m\u001b[0mexception\u001b[0m \u001b[1;33m=\u001b[0m \u001b[0mex\u001b[0m\u001b[1;33m\u001b[0m\u001b[1;33m\u001b[0m\u001b[0m\n\u001b[1;32m--> 374\u001b[1;33m                     \u001b[1;32mraise\u001b[0m \u001b[0mex\u001b[0m\u001b[1;33m\u001b[0m\u001b[1;33m\u001b[0m\u001b[0m\n\u001b[0m\u001b[0;32m    375\u001b[0m                 \u001b[1;32mexcept\u001b[0m \u001b[0mException\u001b[0m \u001b[1;32mas\u001b[0m \u001b[0mex\u001b[0m\u001b[1;33m:\u001b[0m\u001b[1;33m\u001b[0m\u001b[1;33m\u001b[0m\u001b[0m\n\u001b[0;32m    376\u001b[0m                     \u001b[0mretry_context\u001b[0m\u001b[1;33m.\u001b[0m\u001b[0mexception\u001b[0m \u001b[1;33m=\u001b[0m \u001b[0mex\u001b[0m\u001b[1;33m\u001b[0m\u001b[1;33m\u001b[0m\u001b[0m\n",
      "\u001b[1;32mc:\\Users\\user\\AppData\\Local\\Programs\\Python\\Python37\\lib\\site-packages\\azure\\storage\\common\\storageclient.py\u001b[0m in \u001b[0;36m_perform_request\u001b[1;34m(self, request, parser, parser_args, operation_context, expected_errors)\u001b[0m\n\u001b[0;32m    358\u001b[0m                         \u001b[1;31m# and raised as an azure http exception\u001b[0m\u001b[1;33m\u001b[0m\u001b[1;33m\u001b[0m\u001b[1;33m\u001b[0m\u001b[0m\n\u001b[0;32m    359\u001b[0m                         _http_error_handler(\n\u001b[1;32m--> 360\u001b[1;33m                             HTTPError(response.status, response.message, response.headers, response.body))\n\u001b[0m\u001b[0;32m    361\u001b[0m \u001b[1;33m\u001b[0m\u001b[0m\n\u001b[0;32m    362\u001b[0m                     \u001b[1;31m# Parse the response\u001b[0m\u001b[1;33m\u001b[0m\u001b[1;33m\u001b[0m\u001b[1;33m\u001b[0m\u001b[0m\n",
      "\u001b[1;32mc:\\Users\\user\\AppData\\Local\\Programs\\Python\\Python37\\lib\\site-packages\\azure\\storage\\common\\_error.py\u001b[0m in \u001b[0;36m_http_error_handler\u001b[1;34m(http_error)\u001b[0m\n\u001b[0;32m    113\u001b[0m     \u001b[0mex\u001b[0m\u001b[1;33m.\u001b[0m\u001b[0merror_code\u001b[0m \u001b[1;33m=\u001b[0m \u001b[0merror_code\u001b[0m\u001b[1;33m\u001b[0m\u001b[1;33m\u001b[0m\u001b[0m\n\u001b[0;32m    114\u001b[0m \u001b[1;33m\u001b[0m\u001b[0m\n\u001b[1;32m--> 115\u001b[1;33m     \u001b[1;32mraise\u001b[0m \u001b[0mex\u001b[0m\u001b[1;33m\u001b[0m\u001b[1;33m\u001b[0m\u001b[0m\n\u001b[0m\u001b[0;32m    116\u001b[0m \u001b[1;33m\u001b[0m\u001b[0m\n\u001b[0;32m    117\u001b[0m \u001b[1;33m\u001b[0m\u001b[0m\n",
      "\u001b[1;31mAzureMissingResourceHttpError\u001b[0m: The specified resource does not exist. ErrorCode: ResourceNotFound\n<?xml version=\"1.0\" encoding=\"utf-8\"?><Error><Code>ResourceNotFound</Code><Message>The specified resource does not exist.\nRequestId:659cdaaa-401a-0052-180a-f33e0c000000\nTime:2022-11-08T00:39:01.5208726Z</Message></Error>"
     ]
    }
   ],
   "source": [
    "# 공유 폴더내의 파일의 삭제\n",
    "\n",
    "file_service.delete_file('myshare', None, 'myfile')"
   ]
  },
  {
   "cell_type": "code",
   "execution_count": 18,
   "metadata": {},
   "outputs": [
    {
     "data": {
      "text/plain": [
       "True"
      ]
     },
     "execution_count": 18,
     "metadata": {},
     "output_type": "execute_result"
    }
   ],
   "source": [
    "# 공유 폴더의 삭제 \n",
    "\n",
    "file_service.delete_share('myshare')"
   ]
  }
 ],
 "metadata": {
  "kernelspec": {
   "display_name": "Python 3.7.9 64-bit",
   "language": "python",
   "name": "python3"
  },
  "language_info": {
   "codemirror_mode": {
    "name": "ipython",
    "version": 3
   },
   "file_extension": ".py",
   "mimetype": "text/x-python",
   "name": "python",
   "nbconvert_exporter": "python",
   "pygments_lexer": "ipython3",
   "version": "3.7.9"
  },
  "orig_nbformat": 4,
  "vscode": {
   "interpreter": {
    "hash": "8c2dc7f55a4afb133f9671f18548a683b80d7f864af89313bd9839ac682f147f"
   }
  }
 },
 "nbformat": 4,
 "nbformat_minor": 2
}
