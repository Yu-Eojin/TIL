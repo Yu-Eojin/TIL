{
 "cells": [
  {
   "cell_type": "code",
   "execution_count": 3,
   "metadata": {},
   "outputs": [],
   "source": [
    "# 필요한 패키지 로드\n",
    "import os, uuid \n",
    "from azure.storage.blob import BlobServiceClient, BlobClient, ContainerClient"
   ]
  },
  {
   "cell_type": "code",
   "execution_count": 4,
   "metadata": {},
   "outputs": [],
   "source": [
    "# Blob 서비스에 연결\n",
    "connect_string = 'DefaultEndpointsProtocol=https;AccountName=labuser8storage;AccountKey=qDHEGHX9VSGqu51GcfygJki3ar5Jzth8BeD9KAGWMYXcXpU/uOT4Zh5y0hLt1eRFZYdYw4YtaL92+AStLz8C6w==;EndpointSuffix=core.windows.net'\n",
    "blob_service_client = BlobServiceClient.from_connection_string(connect_string)"
   ]
  },
  {
   "cell_type": "code",
   "execution_count": 6,
   "metadata": {},
   "outputs": [
    {
     "name": "stdout",
     "output_type": "stream",
     "text": [
      "f1ce6f50-6732-49a8-855c-21fd8cda0685\n"
     ]
    }
   ],
   "source": [
    "# container 생성\n",
    "container_name = str(uuid.uuid4())\n",
    "print(container_name)\n",
    "\n",
    "container_client = blob_service_client.create_container(container_name)"
   ]
  },
  {
   "cell_type": "code",
   "execution_count": 7,
   "metadata": {},
   "outputs": [],
   "source": [
    "# 데이터 업로드\n",
    "local_path = './data'\n",
    "os.mkdir(local_path)\n",
    "\n",
    "local_file_name = str(uuid.uuid4()) + '.txt'\n",
    "upload_file_path = os.path.join(local_path, local_file_name)"
   ]
  },
  {
   "cell_type": "code",
   "execution_count": 8,
   "metadata": {},
   "outputs": [],
   "source": [
    "# 업로드할 파일 준비\n",
    "file = open(file=upload_file_path, mode='w')\n",
    "file.write('Hello Azure Storage')\n",
    "file.close()\n",
    "\n",
    "blob_client = blob_service_client.get_blob_client(container=container_name,\n",
    "                                                  blob=local_file_name)\n",
    "\n",
    "# 파일 업로드                    \n",
    "with open(file=upload_file_path, mode='rb') as data:\n",
    "    blob_client.upload_blob(data)"
   ]
  },
  {
   "cell_type": "code",
   "execution_count": 9,
   "metadata": {},
   "outputs": [
    {
     "name": "stdout",
     "output_type": "stream",
     "text": [
      "\t5ba47ca3-520e-4e44-beb5-6c04f2b05ae9.txt\n"
     ]
    }
   ],
   "source": [
    "# 파일의 목록 확인\n",
    "blob_list = container_client.list_blobs()\n",
    "for blob in blob_list:\n",
    "    print('\\t' + blob.name)"
   ]
  },
  {
   "cell_type": "code",
   "execution_count": 10,
   "metadata": {},
   "outputs": [],
   "source": [
    "# 업로드 된 파일의 다운로드\n",
    "download_file_path = os.path.join(local_path, \n",
    "                                  str.replace(local_file_name,'.txt','DOWNLOAD.txt'))\n",
    "container_client = blob_service_client.get_container_client(container=container_name)\n",
    "\n",
    "with open(file=download_file_path, mode='wb') as download_file:\n",
    "    download_file.write(container_client.download_blob(blob.name).readall())"
   ]
  },
  {
   "cell_type": "code",
   "execution_count": 11,
   "metadata": {},
   "outputs": [
    {
     "name": "stdout",
     "output_type": "stream",
     "text": [
      "press the Enter key to begin clean up\n",
      "Deleting blob container...\n",
      "Deldting the local source and downloaded files...\n",
      "Done!\n"
     ]
    }
   ],
   "source": [
    "# 실습한 자원의 정리\n",
    "print('press the Enter key to begin clean up')\n",
    "input()\n",
    "\n",
    "print('Deleting blob container...')\n",
    "container_client.delete_container()\n",
    "\n",
    "print('Deldting the local source and downloaded files...')\n",
    "os.remove(upload_file_path)\n",
    "os.remove(download_file_path)\n",
    "os.rmdir(local_path)\n",
    "\n",
    "print('Done!')"
   ]
  }
 ],
 "metadata": {
  "kernelspec": {
   "display_name": "Python 3.7.9 64-bit",
   "language": "python",
   "name": "python3"
  },
  "language_info": {
   "codemirror_mode": {
    "name": "ipython",
    "version": 3
   },
   "file_extension": ".py",
   "mimetype": "text/x-python",
   "name": "python",
   "nbconvert_exporter": "python",
   "pygments_lexer": "ipython3",
   "version": "3.7.9"
  },
  "orig_nbformat": 4,
  "vscode": {
   "interpreter": {
    "hash": "8c2dc7f55a4afb133f9671f18548a683b80d7f864af89313bd9839ac682f147f"
   }
  }
 },
 "nbformat": 4,
 "nbformat_minor": 2
}
