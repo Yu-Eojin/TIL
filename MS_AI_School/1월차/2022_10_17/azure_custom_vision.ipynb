{
 "cells": [
  {
   "cell_type": "code",
   "execution_count": 22,
   "metadata": {},
   "outputs": [],
   "source": [
    "from azure.cognitiveservices.vision.customvision.training import CustomVisionTrainingClient\n",
    "from azure.cognitiveservices.vision.customvision.prediction import CustomVisionPredictionClient\n",
    "from azure.cognitiveservices.vision.customvision.training.models import ImageFileCreateBatch, ImageFileCreateEntry, Region\n",
    "from msrest.authentication import ApiKeyCredentials\n",
    "import os, time, uuid"
   ]
  },
  {
   "cell_type": "code",
   "execution_count": 30,
   "metadata": {},
   "outputs": [],
   "source": [
    "ENDPOINT_Training ='https://labuser8custom.cognitiveservices.azure.com/'\n",
    "ENDPOINT_Prediction ='https://labuser8custom-prediction.cognitiveservices.azure.com/'\n",
    "\n",
    "training_key = '77e4faa379724cbeb330ec2fc326fb4d'\n",
    "prediction_key ='16fe36c22e434225aad00cafd6f296ce'\n",
    "prediction_resource_id ='/subscriptions/7ae06d59-97e1-4a36-bbfe-efb081b9b03b/resourceGroups/RG8/providers/Microsoft.CognitiveServices/accounts/labuser8custom'"
   ]
  },
  {
   "cell_type": "code",
   "execution_count": 5,
   "metadata": {},
   "outputs": [],
   "source": [
    "# 트레이너 객체 생성\n",
    "credentials = ApiKeyCredentials(in_headers={\"Training-key\": training_key})\n",
    "trainer = CustomVisionTrainingClient(ENDPOINT_Training, credentials)"
   ]
  },
  {
   "cell_type": "code",
   "execution_count": 23,
   "metadata": {},
   "outputs": [
    {
     "name": "stdout",
     "output_type": "stream",
     "text": [
      "Creating project...\n"
     ]
    }
   ],
   "source": [
    "print('Creating project...')\n",
    "project = trainer.create_project('Labuser8 Project')"
   ]
  },
  {
   "cell_type": "code",
   "execution_count": 25,
   "metadata": {},
   "outputs": [
    {
     "ename": "CustomVisionErrorException",
     "evalue": "Name not unique: Jajangmyeon, Project: e063c5f1-57cb-4b6d-9d90-f9429aa769ec",
     "output_type": "error",
     "traceback": [
      "\u001b[1;31m---------------------------------------------------------------------------\u001b[0m",
      "\u001b[1;31mCustomVisionErrorException\u001b[0m                Traceback (most recent call last)",
      "\u001b[1;32m~\\AppData\\Local\\Temp\\ipykernel_12448\\2948711899.py\u001b[0m in \u001b[0;36m<module>\u001b[1;34m\u001b[0m\n\u001b[1;32m----> 1\u001b[1;33m \u001b[0mJajangmyeon_tag\u001b[0m \u001b[1;33m=\u001b[0m \u001b[0mtrainer\u001b[0m\u001b[1;33m.\u001b[0m\u001b[0mcreate_tag\u001b[0m\u001b[1;33m(\u001b[0m\u001b[0mproject\u001b[0m\u001b[1;33m.\u001b[0m\u001b[0mid\u001b[0m\u001b[1;33m,\u001b[0m \u001b[1;34m\"Jajangmyeon\"\u001b[0m\u001b[1;33m)\u001b[0m\u001b[1;33m\u001b[0m\u001b[1;33m\u001b[0m\u001b[0m\n\u001b[0m\u001b[0;32m      2\u001b[0m \u001b[0mChampon_tag\u001b[0m \u001b[1;33m=\u001b[0m \u001b[0mtrainer\u001b[0m\u001b[1;33m.\u001b[0m\u001b[0mcreate_tag\u001b[0m\u001b[1;33m(\u001b[0m\u001b[0mproject\u001b[0m\u001b[1;33m.\u001b[0m\u001b[0mid\u001b[0m\u001b[1;33m,\u001b[0m \u001b[1;34m\"Champon\"\u001b[0m\u001b[1;33m)\u001b[0m\u001b[1;33m\u001b[0m\u001b[1;33m\u001b[0m\u001b[0m\n\u001b[0;32m      3\u001b[0m \u001b[0mTangsuyug_tag\u001b[0m \u001b[1;33m=\u001b[0m \u001b[0mtrainer\u001b[0m\u001b[1;33m.\u001b[0m\u001b[0mcreate_tag\u001b[0m\u001b[1;33m(\u001b[0m\u001b[0mproject\u001b[0m\u001b[1;33m.\u001b[0m\u001b[0mid\u001b[0m\u001b[1;33m,\u001b[0m \u001b[1;34m\"Tangsuyug\"\u001b[0m\u001b[1;33m)\u001b[0m\u001b[1;33m\u001b[0m\u001b[1;33m\u001b[0m\u001b[0m\n",
      "\u001b[1;32mc:\\Users\\user\\AppData\\Local\\Programs\\Python\\Python37\\lib\\site-packages\\azure\\cognitiveservices\\vision\\customvision\\training\\operations\\_custom_vision_training_client_operations.py\u001b[0m in \u001b[0;36mcreate_tag\u001b[1;34m(self, project_id, name, description, type, custom_headers, raw, **operation_config)\u001b[0m\n\u001b[0;32m   2943\u001b[0m \u001b[1;33m\u001b[0m\u001b[0m\n\u001b[0;32m   2944\u001b[0m         \u001b[1;32mif\u001b[0m \u001b[0mresponse\u001b[0m\u001b[1;33m.\u001b[0m\u001b[0mstatus_code\u001b[0m \u001b[1;32mnot\u001b[0m \u001b[1;32min\u001b[0m \u001b[1;33m[\u001b[0m\u001b[1;36m200\u001b[0m\u001b[1;33m]\u001b[0m\u001b[1;33m:\u001b[0m\u001b[1;33m\u001b[0m\u001b[1;33m\u001b[0m\u001b[0m\n\u001b[1;32m-> 2945\u001b[1;33m             \u001b[1;32mraise\u001b[0m \u001b[0mmodels\u001b[0m\u001b[1;33m.\u001b[0m\u001b[0mCustomVisionErrorException\u001b[0m\u001b[1;33m(\u001b[0m\u001b[0mself\u001b[0m\u001b[1;33m.\u001b[0m\u001b[0m_deserialize\u001b[0m\u001b[1;33m,\u001b[0m \u001b[0mresponse\u001b[0m\u001b[1;33m)\u001b[0m\u001b[1;33m\u001b[0m\u001b[1;33m\u001b[0m\u001b[0m\n\u001b[0m\u001b[0;32m   2946\u001b[0m \u001b[1;33m\u001b[0m\u001b[0m\n\u001b[0;32m   2947\u001b[0m         \u001b[0mdeserialized\u001b[0m \u001b[1;33m=\u001b[0m \u001b[1;32mNone\u001b[0m\u001b[1;33m\u001b[0m\u001b[1;33m\u001b[0m\u001b[0m\n",
      "\u001b[1;31mCustomVisionErrorException\u001b[0m: Name not unique: Jajangmyeon, Project: e063c5f1-57cb-4b6d-9d90-f9429aa769ec"
     ]
    }
   ],
   "source": [
    "Jajangmyeon_tag = trainer.create_tag(project.id, \"Jajangmyeon\")\n",
    "Champon_tag = trainer.create_tag(project.id, \"Champon\")\n",
    "Tangsuyug_tag = trainer.create_tag(project.id, \"Tangsuyug\")"
   ]
  },
  {
   "cell_type": "code",
   "execution_count": 26,
   "metadata": {},
   "outputs": [],
   "source": [
    "import time"
   ]
  },
  {
   "cell_type": "code",
   "execution_count": 27,
   "metadata": {},
   "outputs": [
    {
     "name": "stdout",
     "output_type": "stream",
     "text": [
      "Training...\n",
      "Training status Training\n",
      "Training status Training\n",
      "Training status Training\n",
      "Training status Training\n",
      "Training status Training\n",
      "Training status Training\n",
      "Training status Training\n",
      "Training status Training\n",
      "Training status Training\n",
      "Training status Training\n",
      "Training status Training\n",
      "Training status Training\n",
      "Training status Training\n",
      "Training status Training\n",
      "Training status Training\n",
      "Training status Training\n",
      "Training status Training\n",
      "Training status Training\n",
      "Training status Training\n",
      "Training status Training\n",
      "Training status Training\n",
      "Training status Training\n",
      "Training status Training\n",
      "Training status Training\n",
      "Training status Training\n",
      "Training status Training\n",
      "Training status Training\n",
      "Training status Training\n",
      "Training status Training\n",
      "Training status Training\n",
      "Training status Training\n",
      "Training status Training\n",
      "Training status Training\n",
      "Training status Training\n",
      "Training status Training\n",
      "Training status Training\n",
      "Training status Training\n",
      "Training status Training\n",
      "Training status Training\n",
      "Training status Training\n",
      "Training status Training\n",
      "Training status Training\n",
      "Training status Training\n",
      "Training status Training\n",
      "Training status Training\n",
      "Training status Training\n",
      "Training status Training\n",
      "Training status Training\n",
      "Training status Training\n",
      "Training status Training\n",
      "Training status Training\n",
      "Training status Training\n",
      "Training status Training\n",
      "Training status Training\n",
      "Training status Training\n",
      "Training status Training\n",
      "Training status Training\n",
      "Training status Training\n",
      "Training status Training\n",
      "Training status Training\n",
      "Training status Training\n",
      "Training status Training\n",
      "Training status Training\n",
      "Training status Training\n",
      "Training status Training\n",
      "Training status Training\n",
      "Training status Training\n",
      "Training status Training\n",
      "Training status Completed\n",
      "Done!\n"
     ]
    }
   ],
   "source": [
    "print('Training...')\n",
    "iteration = trainer.train_project(project.id)\n",
    "while (iteration.status != 'Completed'):\n",
    "    iteration = trainer.get_iteration(project.id, iteration.id)\n",
    "    print('Training status '+ iteration.status)\n",
    "\n",
    "    time.sleep(10)\n",
    "\n",
    "print('Done!')"
   ]
  },
  {
   "cell_type": "code",
   "execution_count": 28,
   "metadata": {},
   "outputs": [],
   "source": [
    "from azure.cognitiveservices.vision.customvision.prediction import CustomVisionPredictionClient"
   ]
  },
  {
   "cell_type": "code",
   "execution_count": 31,
   "metadata": {},
   "outputs": [],
   "source": [
    "prediction_credentials = ApiKeyCredentials(in_headers={\"Prediction-key\": prediction_key})\n",
    "predictor = CustomVisionPredictionClient(ENDPOINT_Prediction, prediction_credentials)"
   ]
  },
  {
   "cell_type": "code",
   "execution_count": 32,
   "metadata": {},
   "outputs": [],
   "source": [
    "target_image_url = 'https://encrypted-tbn0.gstatic.com/images?q=tbn:ANd9GcSTzZsni59aR-cyTiAVGHsV_yT4odKF8VZapg&usqp=CAU'\n",
    "result = predictor.classify_image_url(project.id, 'Greatwall', target_image_url)"
   ]
  },
  {
   "cell_type": "code",
   "execution_count": 37,
   "metadata": {},
   "outputs": [
    {
     "name": "stdout",
     "output_type": "stream",
     "text": [
      "\tJajangmyeon : 99.76%\n",
      "\tChampon : 0.25%\n",
      "\tTangsuyug : 0.02%\n"
     ]
    }
   ],
   "source": [
    "for prediction in result.predictions:\n",
    "    print('\\t'+prediction.tag_name+' : {0:.2f}%'.format(prediction.probability*100))"
   ]
  }
 ],
 "metadata": {
  "kernelspec": {
   "display_name": "Python 3.7.9 64-bit",
   "language": "python",
   "name": "python3"
  },
  "language_info": {
   "codemirror_mode": {
    "name": "ipython",
    "version": 3
   },
   "file_extension": ".py",
   "mimetype": "text/x-python",
   "name": "python",
   "nbconvert_exporter": "python",
   "pygments_lexer": "ipython3",
   "version": "3.7.9"
  },
  "orig_nbformat": 4,
  "vscode": {
   "interpreter": {
    "hash": "8c2dc7f55a4afb133f9671f18548a683b80d7f864af89313bd9839ac682f147f"
   }
  }
 },
 "nbformat": 4,
 "nbformat_minor": 2
}
